{
  "nbformat": 4,
  "nbformat_minor": 0,
  "metadata": {
    "colab": {
      "provenance": []
    },
    "kernelspec": {
      "name": "python3",
      "display_name": "Python 3"
    }
  },
  "cells": [
    {
      "cell_type": "markdown",
      "metadata": {
        "id": "BWeV4Bkj4kLa"
      },
      "source": [
        "# Hyperparameter Tuning Iris\n",
        "\n",
        "##**Overview:**\n",
        "\n",
        "This exercise focuses on optimising a neural network model by tuning its hyperparameters. By exploring different configurations for the number of units in a hidden layer, the exercise aims to identify the model architecture that achieves the best performance on the Iris dataset. This approach helps in building more efficient and accurate machine learning models by finding the optimal set of hyperparameters automatically, rather than relying on manual trial-and-error."
      ]
    },
    {
      "cell_type": "code",
      "metadata": {
        "id": "-L_bPAXiD33G",
        "outputId": "824b7982-8ad3-4401-a60c-339a8359efd8",
        "colab": {
          "base_uri": "https://localhost:8080/"
        }
      },
      "source": [
        "# install the Keras-tuner library\n",
        "!pip install keras-tuner"
      ],
      "execution_count": null,
      "outputs": [
        {
          "output_type": "stream",
          "name": "stdout",
          "text": [
            "Collecting keras-tuner\n",
            "  Downloading keras_tuner-1.4.7-py3-none-any.whl (129 kB)\n",
            "\u001b[2K     \u001b[90m━━━━━━━━━━━━━━━━━━━━━━━━━━━━━━━━━━━━━━━━\u001b[0m \u001b[32m129.1/129.1 kB\u001b[0m \u001b[31m2.7 MB/s\u001b[0m eta \u001b[36m0:00:00\u001b[0m\n",
            "\u001b[?25hRequirement already satisfied: keras in /usr/local/lib/python3.10/dist-packages (from keras-tuner) (2.15.0)\n",
            "Requirement already satisfied: packaging in /usr/local/lib/python3.10/dist-packages (from keras-tuner) (24.1)\n",
            "Requirement already satisfied: requests in /usr/local/lib/python3.10/dist-packages (from keras-tuner) (2.31.0)\n",
            "Collecting kt-legacy (from keras-tuner)\n",
            "  Downloading kt_legacy-1.0.5-py3-none-any.whl (9.6 kB)\n",
            "Requirement already satisfied: charset-normalizer<4,>=2 in /usr/local/lib/python3.10/dist-packages (from requests->keras-tuner) (3.3.2)\n",
            "Requirement already satisfied: idna<4,>=2.5 in /usr/local/lib/python3.10/dist-packages (from requests->keras-tuner) (3.7)\n",
            "Requirement already satisfied: urllib3<3,>=1.21.1 in /usr/local/lib/python3.10/dist-packages (from requests->keras-tuner) (2.0.7)\n",
            "Requirement already satisfied: certifi>=2017.4.17 in /usr/local/lib/python3.10/dist-packages (from requests->keras-tuner) (2024.7.4)\n",
            "Installing collected packages: kt-legacy, keras-tuner\n",
            "Successfully installed keras-tuner-1.4.7 kt-legacy-1.0.5\n"
          ]
        }
      ]
    },
    {
      "cell_type": "code",
      "metadata": {
        "id": "iXrRNmG3DxtM",
        "outputId": "513a8352-268c-480d-9081-3b1c1b2aa743",
        "colab": {
          "base_uri": "https://localhost:8080/"
        }
      },
      "source": [
        "#Import necessary libraries for data handling, model building, and visualization\n",
        "import kerastuner as kt"
      ],
      "execution_count": null,
      "outputs": [
        {
          "output_type": "stream",
          "name": "stderr",
          "text": [
            "<ipython-input-2-2ba3084d7a45>:2: DeprecationWarning: `import kerastuner` is deprecated, please use `import keras_tuner`.\n",
            "  import kerastuner as kt\n"
          ]
        }
      ]
    },
    {
      "cell_type": "code",
      "metadata": {
        "id": "edV8wRk_4ihz"
      },
      "source": [
        "import pandas as pd\n",
        "from IPython.display import display\n",
        "from sklearn.datasets import load_iris\n",
        "from sklearn.preprocessing import normalize\n",
        "from sklearn.model_selection import train_test_split\n",
        "import tensorflow as tf\n",
        "from tensorflow.keras import utils\n",
        "from tensorflow.keras.models import Sequential\n",
        "from tensorflow.keras.layers import Dense\n",
        "import matplotlib.pyplot as plt\n",
        "\n",
        "# get the data\n",
        "data = load_iris()\n",
        "df = pd.DataFrame(data.data, columns=data.feature_names)\n",
        "\n",
        "# Normalise the data\n",
        "df_norm = normalize(df)\n",
        "\n",
        "# split the data into train and test\n",
        "x_train, x_test, y_train, y_test = train_test_split(df_norm, data.target, random_state=0)\n",
        "\n",
        "# one-hot encode the data\n",
        "y_train = utils.to_categorical(y_train)\n",
        "y_test = utils.to_categorical(y_test)\n"
      ],
      "execution_count": null,
      "outputs": []
    },
    {
      "cell_type": "code",
      "metadata": {
        "id": "iDEzyR6sEBtf"
      },
      "source": [
        "# build the model within a function\n",
        "# Apply hyperparmeter tuning to the number of units in the second hidden layer in the model\n",
        "def model_builder(hp):\n",
        "  model = Sequential()\n",
        "  model.add(tf.keras.layers.Dense(input_dim=4, units=10, activation='relu'))\n",
        "  hp_units = hp.Int('units', min_value = 10, max_value = 200, step = 10)\n",
        "  model.add(tf.keras.layers.Dense(units=hp_units, activation='relu'))\n",
        "  model.add(tf.keras.layers.Dense(units=3, activation='softmax'))\n",
        "  #model.add(tf.keras.layers.Dense(units=hp.Int('units', min_value = 15, max_value = 350, step = 10), activation='softmax'))\n",
        "  model.compile(optimizer = \"adam\", loss = 'categorical_crossentropy', metrics = ['accuracy'])\n",
        "  return model"
      ],
      "execution_count": null,
      "outputs": []
    },
    {
      "cell_type": "code",
      "metadata": {
        "id": "rysjDFR0E7uG"
      },
      "source": [
        "# instatiate the tuner and perform hypertuning\n",
        "tuner = kt.Hyperband(model_builder,\n",
        "                     objective = 'val_accuracy',\n",
        "                     max_epochs = 125,\n",
        "                     factor = 3,        # factor is a number that determines how many models are created to run in parallel whaen testing the hyperparameters\n",
        "                     directory = 'my_dir',  # directory that the tuned hyperparameter results are stored in (change the name of this directory if you get the message INFO:tensorflow:Oracle triggered exit)\n",
        "                     project_name = 'intro_to_kt')"
      ],
      "execution_count": null,
      "outputs": []
    },
    {
      "cell_type": "code",
      "metadata": {
        "id": "0AVJLQOJFiEz"
      },
      "source": [
        "# define a callback to clear the training outputs at the end of every training step\n",
        "class ClearTrainingOutput(tf.keras.callbacks.Callback):\n",
        "  def on_train_end(*args, **kwargs):\n",
        "    IPython.display.clear_output(wait = True)"
      ],
      "execution_count": null,
      "outputs": []
    },
    {
      "cell_type": "code",
      "metadata": {
        "id": "62HDptqx0YmR",
        "outputId": "1a467848-e6a8-4f6a-c37b-79e871ce1c53",
        "colab": {
          "base_uri": "https://localhost:8080/"
        }
      },
      "source": [
        "import IPython\n",
        "# run the hyperparameter search\n",
        "tuner.search(x_train, y_train, epochs = 125, validation_data = (x_test, y_test), callbacks = [ClearTrainingOutput()])"
      ],
      "execution_count": null,
      "outputs": [
        {
          "output_type": "stream",
          "name": "stdout",
          "text": [
            "Trial 20 Complete [00h 00m 02s]\n",
            "val_accuracy: 0.2368421107530594\n",
            "\n",
            "Best val_accuracy So Far: 0.7105262875556946\n",
            "Total elapsed time: 00h 00m 46s\n"
          ]
        }
      ]
    },
    {
      "cell_type": "code",
      "metadata": {
        "id": "yammasbfFobR",
        "outputId": "610c6622-8d1a-41d8-feed-4d578dceefeb",
        "colab": {
          "base_uri": "https://localhost:8080/"
        }
      },
      "source": [
        "# Get the optimal hyperparameters\n",
        "best_hps = tuner.get_best_hyperparameters(num_trials = 1)[0]\n",
        "print(best_hps.values)"
      ],
      "execution_count": null,
      "outputs": [
        {
          "output_type": "stream",
          "name": "stdout",
          "text": [
            "{'units': 80, 'tuner/epochs': 2, 'tuner/initial_epoch': 0, 'tuner/bracket': 4, 'tuner/round': 0}\n"
          ]
        }
      ]
    },
    {
      "cell_type": "code",
      "metadata": {
        "id": "yYSKqRDUgaFb",
        "outputId": "f8976e8e-b850-4462-c990-c570c34afb55",
        "colab": {
          "base_uri": "https://localhost:8080/"
        }
      },
      "source": [
        "# apply the optimal hyperparameters to the model and print the summary\n",
        "model = tuner.hypermodel.build(best_hps)\n",
        "model.summary()"
      ],
      "execution_count": null,
      "outputs": [
        {
          "output_type": "stream",
          "name": "stdout",
          "text": [
            "Model: \"sequential_1\"\n",
            "_________________________________________________________________\n",
            " Layer (type)                Output Shape              Param #   \n",
            "=================================================================\n",
            " dense_3 (Dense)             (None, 10)                50        \n",
            "                                                                 \n",
            " dense_4 (Dense)             (None, 80)                880       \n",
            "                                                                 \n",
            " dense_5 (Dense)             (None, 3)                 243       \n",
            "                                                                 \n",
            "=================================================================\n",
            "Total params: 1173 (4.58 KB)\n",
            "Trainable params: 1173 (4.58 KB)\n",
            "Non-trainable params: 0 (0.00 Byte)\n",
            "_________________________________________________________________\n"
          ]
        }
      ]
    },
    {
      "cell_type": "code",
      "metadata": {
        "id": "WUE5OcLsnMRY",
        "outputId": "52939b65-8e30-4788-89b8-112580baee08",
        "colab": {
          "base_uri": "https://localhost:8080/"
        }
      },
      "source": [
        "# retrain the model with the optimum hyperparameters and train it on the data\n",
        "model = tuner.hypermodel.build(best_hps)\n",
        "model.summary()\n",
        "history = model.fit(x_train, y_train, epochs = 125, validation_data = (x_test, y_test))"
      ],
      "execution_count": null,
      "outputs": [
        {
          "output_type": "stream",
          "name": "stdout",
          "text": [
            "Model: \"sequential_2\"\n",
            "_________________________________________________________________\n",
            " Layer (type)                Output Shape              Param #   \n",
            "=================================================================\n",
            " dense_6 (Dense)             (None, 10)                50        \n",
            "                                                                 \n",
            " dense_7 (Dense)             (None, 80)                880       \n",
            "                                                                 \n",
            " dense_8 (Dense)             (None, 3)                 243       \n",
            "                                                                 \n",
            "=================================================================\n",
            "Total params: 1173 (4.58 KB)\n",
            "Trainable params: 1173 (4.58 KB)\n",
            "Non-trainable params: 0 (0.00 Byte)\n",
            "_________________________________________________________________\n",
            "Epoch 1/125\n",
            "4/4 [==============================] - 1s 73ms/step - loss: 1.0988 - accuracy: 0.3661 - val_loss: 1.1004 - val_accuracy: 0.2368\n",
            "Epoch 2/125\n",
            "4/4 [==============================] - 0s 13ms/step - loss: 1.0909 - accuracy: 0.4375 - val_loss: 1.0920 - val_accuracy: 0.5789\n",
            "Epoch 3/125\n",
            "4/4 [==============================] - 0s 17ms/step - loss: 1.0842 - accuracy: 0.6339 - val_loss: 1.0857 - val_accuracy: 0.5263\n",
            "Epoch 4/125\n",
            "4/4 [==============================] - 0s 13ms/step - loss: 1.0771 - accuracy: 0.6339 - val_loss: 1.0811 - val_accuracy: 0.5526\n",
            "Epoch 5/125\n",
            "4/4 [==============================] - 0s 18ms/step - loss: 1.0706 - accuracy: 0.6607 - val_loss: 1.0744 - val_accuracy: 0.5526\n",
            "Epoch 6/125\n",
            "4/4 [==============================] - 0s 18ms/step - loss: 1.0643 - accuracy: 0.6518 - val_loss: 1.0679 - val_accuracy: 0.5526\n",
            "Epoch 7/125\n",
            "4/4 [==============================] - 0s 18ms/step - loss: 1.0568 - accuracy: 0.6696 - val_loss: 1.0624 - val_accuracy: 0.5789\n",
            "Epoch 8/125\n",
            "4/4 [==============================] - 0s 18ms/step - loss: 1.0498 - accuracy: 0.6875 - val_loss: 1.0562 - val_accuracy: 0.5789\n",
            "Epoch 9/125\n",
            "4/4 [==============================] - 0s 18ms/step - loss: 1.0428 - accuracy: 0.6875 - val_loss: 1.0500 - val_accuracy: 0.5789\n",
            "Epoch 10/125\n",
            "4/4 [==============================] - 0s 12ms/step - loss: 1.0352 - accuracy: 0.6964 - val_loss: 1.0436 - val_accuracy: 0.5789\n",
            "Epoch 11/125\n",
            "4/4 [==============================] - 0s 12ms/step - loss: 1.0275 - accuracy: 0.6964 - val_loss: 1.0363 - val_accuracy: 0.5789\n",
            "Epoch 12/125\n",
            "4/4 [==============================] - 0s 13ms/step - loss: 1.0195 - accuracy: 0.6964 - val_loss: 1.0291 - val_accuracy: 0.5789\n",
            "Epoch 13/125\n",
            "4/4 [==============================] - 0s 12ms/step - loss: 1.0112 - accuracy: 0.6964 - val_loss: 1.0220 - val_accuracy: 0.5789\n",
            "Epoch 14/125\n",
            "4/4 [==============================] - 0s 17ms/step - loss: 1.0031 - accuracy: 0.6964 - val_loss: 1.0147 - val_accuracy: 0.5789\n",
            "Epoch 15/125\n",
            "4/4 [==============================] - 0s 15ms/step - loss: 0.9938 - accuracy: 0.6964 - val_loss: 1.0055 - val_accuracy: 0.5789\n",
            "Epoch 16/125\n",
            "4/4 [==============================] - 0s 17ms/step - loss: 0.9839 - accuracy: 0.6964 - val_loss: 0.9952 - val_accuracy: 0.5789\n",
            "Epoch 17/125\n",
            "4/4 [==============================] - 0s 17ms/step - loss: 0.9741 - accuracy: 0.6964 - val_loss: 0.9841 - val_accuracy: 0.5789\n",
            "Epoch 18/125\n",
            "4/4 [==============================] - 0s 16ms/step - loss: 0.9629 - accuracy: 0.6964 - val_loss: 0.9725 - val_accuracy: 0.5789\n",
            "Epoch 19/125\n",
            "4/4 [==============================] - 0s 25ms/step - loss: 0.9495 - accuracy: 0.6964 - val_loss: 0.9599 - val_accuracy: 0.5789\n",
            "Epoch 20/125\n",
            "4/4 [==============================] - 0s 25ms/step - loss: 0.9356 - accuracy: 0.6964 - val_loss: 0.9457 - val_accuracy: 0.5789\n",
            "Epoch 21/125\n",
            "4/4 [==============================] - 0s 26ms/step - loss: 0.9205 - accuracy: 0.6964 - val_loss: 0.9307 - val_accuracy: 0.5789\n",
            "Epoch 22/125\n",
            "4/4 [==============================] - 0s 18ms/step - loss: 0.9038 - accuracy: 0.6964 - val_loss: 0.9151 - val_accuracy: 0.5789\n",
            "Epoch 23/125\n",
            "4/4 [==============================] - 0s 23ms/step - loss: 0.8880 - accuracy: 0.6964 - val_loss: 0.8983 - val_accuracy: 0.5789\n",
            "Epoch 24/125\n",
            "4/4 [==============================] - 0s 25ms/step - loss: 0.8696 - accuracy: 0.6964 - val_loss: 0.8809 - val_accuracy: 0.5789\n",
            "Epoch 25/125\n",
            "4/4 [==============================] - 0s 18ms/step - loss: 0.8514 - accuracy: 0.6964 - val_loss: 0.8635 - val_accuracy: 0.5789\n",
            "Epoch 26/125\n",
            "4/4 [==============================] - 0s 24ms/step - loss: 0.8318 - accuracy: 0.6964 - val_loss: 0.8446 - val_accuracy: 0.5789\n",
            "Epoch 27/125\n",
            "4/4 [==============================] - 0s 18ms/step - loss: 0.8113 - accuracy: 0.6964 - val_loss: 0.8240 - val_accuracy: 0.5789\n",
            "Epoch 28/125\n",
            "4/4 [==============================] - 0s 22ms/step - loss: 0.7905 - accuracy: 0.6964 - val_loss: 0.8037 - val_accuracy: 0.5789\n",
            "Epoch 29/125\n",
            "4/4 [==============================] - 0s 32ms/step - loss: 0.7681 - accuracy: 0.6964 - val_loss: 0.7834 - val_accuracy: 0.5789\n",
            "Epoch 30/125\n",
            "4/4 [==============================] - 0s 25ms/step - loss: 0.7470 - accuracy: 0.6964 - val_loss: 0.7642 - val_accuracy: 0.5789\n",
            "Epoch 31/125\n",
            "4/4 [==============================] - 0s 17ms/step - loss: 0.7257 - accuracy: 0.6964 - val_loss: 0.7458 - val_accuracy: 0.5789\n",
            "Epoch 32/125\n",
            "4/4 [==============================] - 0s 23ms/step - loss: 0.7050 - accuracy: 0.6964 - val_loss: 0.7276 - val_accuracy: 0.5789\n",
            "Epoch 33/125\n",
            "4/4 [==============================] - 0s 25ms/step - loss: 0.6854 - accuracy: 0.6964 - val_loss: 0.7102 - val_accuracy: 0.5789\n",
            "Epoch 34/125\n",
            "4/4 [==============================] - 0s 17ms/step - loss: 0.6666 - accuracy: 0.6964 - val_loss: 0.6923 - val_accuracy: 0.5789\n",
            "Epoch 35/125\n",
            "4/4 [==============================] - 0s 16ms/step - loss: 0.6487 - accuracy: 0.6964 - val_loss: 0.6764 - val_accuracy: 0.5789\n",
            "Epoch 36/125\n",
            "4/4 [==============================] - 0s 21ms/step - loss: 0.6316 - accuracy: 0.6964 - val_loss: 0.6622 - val_accuracy: 0.5789\n",
            "Epoch 37/125\n",
            "4/4 [==============================] - 0s 22ms/step - loss: 0.6155 - accuracy: 0.6964 - val_loss: 0.6494 - val_accuracy: 0.5789\n",
            "Epoch 38/125\n",
            "4/4 [==============================] - 0s 17ms/step - loss: 0.6007 - accuracy: 0.6964 - val_loss: 0.6369 - val_accuracy: 0.5789\n",
            "Epoch 39/125\n",
            "4/4 [==============================] - 0s 24ms/step - loss: 0.5868 - accuracy: 0.6964 - val_loss: 0.6240 - val_accuracy: 0.5789\n",
            "Epoch 40/125\n",
            "4/4 [==============================] - 0s 24ms/step - loss: 0.5741 - accuracy: 0.6964 - val_loss: 0.6118 - val_accuracy: 0.5789\n",
            "Epoch 41/125\n",
            "4/4 [==============================] - 0s 23ms/step - loss: 0.5622 - accuracy: 0.6964 - val_loss: 0.6009 - val_accuracy: 0.5789\n",
            "Epoch 42/125\n",
            "4/4 [==============================] - 0s 31ms/step - loss: 0.5510 - accuracy: 0.6964 - val_loss: 0.5899 - val_accuracy: 0.5789\n",
            "Epoch 43/125\n",
            "4/4 [==============================] - 0s 24ms/step - loss: 0.5405 - accuracy: 0.6964 - val_loss: 0.5797 - val_accuracy: 0.5789\n",
            "Epoch 44/125\n",
            "4/4 [==============================] - 0s 28ms/step - loss: 0.5307 - accuracy: 0.7054 - val_loss: 0.5698 - val_accuracy: 0.5789\n",
            "Epoch 45/125\n",
            "4/4 [==============================] - 0s 25ms/step - loss: 0.5214 - accuracy: 0.7054 - val_loss: 0.5607 - val_accuracy: 0.5789\n",
            "Epoch 46/125\n",
            "4/4 [==============================] - 0s 21ms/step - loss: 0.5129 - accuracy: 0.7054 - val_loss: 0.5501 - val_accuracy: 0.5789\n",
            "Epoch 47/125\n",
            "4/4 [==============================] - 0s 26ms/step - loss: 0.5044 - accuracy: 0.7232 - val_loss: 0.5415 - val_accuracy: 0.5789\n",
            "Epoch 48/125\n",
            "4/4 [==============================] - 0s 25ms/step - loss: 0.4960 - accuracy: 0.7232 - val_loss: 0.5356 - val_accuracy: 0.5789\n",
            "Epoch 49/125\n",
            "4/4 [==============================] - 0s 24ms/step - loss: 0.4894 - accuracy: 0.7232 - val_loss: 0.5314 - val_accuracy: 0.5789\n",
            "Epoch 50/125\n",
            "4/4 [==============================] - 0s 23ms/step - loss: 0.4813 - accuracy: 0.7232 - val_loss: 0.5218 - val_accuracy: 0.5789\n",
            "Epoch 51/125\n",
            "4/4 [==============================] - 0s 24ms/step - loss: 0.4747 - accuracy: 0.7321 - val_loss: 0.5119 - val_accuracy: 0.6316\n",
            "Epoch 52/125\n",
            "4/4 [==============================] - 0s 26ms/step - loss: 0.4676 - accuracy: 0.7589 - val_loss: 0.5049 - val_accuracy: 0.6316\n",
            "Epoch 53/125\n",
            "4/4 [==============================] - 0s 23ms/step - loss: 0.4610 - accuracy: 0.7857 - val_loss: 0.4969 - val_accuracy: 0.6842\n",
            "Epoch 54/125\n",
            "4/4 [==============================] - 0s 24ms/step - loss: 0.4551 - accuracy: 0.8036 - val_loss: 0.4897 - val_accuracy: 0.6842\n",
            "Epoch 55/125\n",
            "4/4 [==============================] - 0s 25ms/step - loss: 0.4489 - accuracy: 0.8393 - val_loss: 0.4846 - val_accuracy: 0.6842\n",
            "Epoch 56/125\n",
            "4/4 [==============================] - 0s 20ms/step - loss: 0.4432 - accuracy: 0.8661 - val_loss: 0.4785 - val_accuracy: 0.7105\n",
            "Epoch 57/125\n",
            "4/4 [==============================] - 0s 24ms/step - loss: 0.4372 - accuracy: 0.8661 - val_loss: 0.4728 - val_accuracy: 0.7105\n",
            "Epoch 58/125\n",
            "4/4 [==============================] - 0s 25ms/step - loss: 0.4315 - accuracy: 0.8839 - val_loss: 0.4695 - val_accuracy: 0.7105\n",
            "Epoch 59/125\n",
            "4/4 [==============================] - 0s 13ms/step - loss: 0.4264 - accuracy: 0.8750 - val_loss: 0.4666 - val_accuracy: 0.7105\n",
            "Epoch 60/125\n",
            "4/4 [==============================] - 0s 18ms/step - loss: 0.4201 - accuracy: 0.8839 - val_loss: 0.4576 - val_accuracy: 0.7368\n",
            "Epoch 61/125\n",
            "4/4 [==============================] - 0s 13ms/step - loss: 0.4150 - accuracy: 0.9018 - val_loss: 0.4485 - val_accuracy: 0.7632\n",
            "Epoch 62/125\n",
            "4/4 [==============================] - 0s 18ms/step - loss: 0.4099 - accuracy: 0.9018 - val_loss: 0.4416 - val_accuracy: 0.7895\n",
            "Epoch 63/125\n",
            "4/4 [==============================] - 0s 14ms/step - loss: 0.4049 - accuracy: 0.9286 - val_loss: 0.4357 - val_accuracy: 0.8158\n",
            "Epoch 64/125\n",
            "4/4 [==============================] - 0s 22ms/step - loss: 0.3997 - accuracy: 0.9107 - val_loss: 0.4338 - val_accuracy: 0.8158\n",
            "Epoch 65/125\n",
            "4/4 [==============================] - 0s 13ms/step - loss: 0.3947 - accuracy: 0.9107 - val_loss: 0.4318 - val_accuracy: 0.7895\n",
            "Epoch 66/125\n",
            "4/4 [==============================] - 0s 18ms/step - loss: 0.3899 - accuracy: 0.9107 - val_loss: 0.4274 - val_accuracy: 0.8158\n",
            "Epoch 67/125\n",
            "4/4 [==============================] - 0s 18ms/step - loss: 0.3855 - accuracy: 0.9018 - val_loss: 0.4310 - val_accuracy: 0.7632\n",
            "Epoch 68/125\n",
            "4/4 [==============================] - 0s 20ms/step - loss: 0.3803 - accuracy: 0.9018 - val_loss: 0.4240 - val_accuracy: 0.7632\n",
            "Epoch 69/125\n",
            "4/4 [==============================] - 0s 29ms/step - loss: 0.3752 - accuracy: 0.9196 - val_loss: 0.4080 - val_accuracy: 0.8421\n",
            "Epoch 70/125\n",
            "4/4 [==============================] - 0s 17ms/step - loss: 0.3707 - accuracy: 0.9375 - val_loss: 0.3975 - val_accuracy: 0.8947\n",
            "Epoch 71/125\n",
            "4/4 [==============================] - 0s 19ms/step - loss: 0.3669 - accuracy: 0.9464 - val_loss: 0.3930 - val_accuracy: 0.9211\n",
            "Epoch 72/125\n",
            "4/4 [==============================] - 0s 19ms/step - loss: 0.3619 - accuracy: 0.9464 - val_loss: 0.3915 - val_accuracy: 0.8947\n",
            "Epoch 73/125\n",
            "4/4 [==============================] - 0s 24ms/step - loss: 0.3566 - accuracy: 0.9375 - val_loss: 0.3948 - val_accuracy: 0.8421\n",
            "Epoch 74/125\n",
            "4/4 [==============================] - 0s 26ms/step - loss: 0.3516 - accuracy: 0.9375 - val_loss: 0.3951 - val_accuracy: 0.8421\n",
            "Epoch 75/125\n",
            "4/4 [==============================] - 0s 22ms/step - loss: 0.3490 - accuracy: 0.9375 - val_loss: 0.3980 - val_accuracy: 0.8158\n",
            "Epoch 76/125\n",
            "4/4 [==============================] - 0s 14ms/step - loss: 0.3432 - accuracy: 0.9375 - val_loss: 0.3878 - val_accuracy: 0.8421\n",
            "Epoch 77/125\n",
            "4/4 [==============================] - 0s 20ms/step - loss: 0.3391 - accuracy: 0.9375 - val_loss: 0.3754 - val_accuracy: 0.8684\n",
            "Epoch 78/125\n",
            "4/4 [==============================] - 0s 17ms/step - loss: 0.3342 - accuracy: 0.9375 - val_loss: 0.3725 - val_accuracy: 0.8684\n",
            "Epoch 79/125\n",
            "4/4 [==============================] - 0s 18ms/step - loss: 0.3294 - accuracy: 0.9375 - val_loss: 0.3687 - val_accuracy: 0.8947\n",
            "Epoch 80/125\n",
            "4/4 [==============================] - 0s 13ms/step - loss: 0.3252 - accuracy: 0.9375 - val_loss: 0.3673 - val_accuracy: 0.8684\n",
            "Epoch 81/125\n",
            "4/4 [==============================] - 0s 12ms/step - loss: 0.3207 - accuracy: 0.9375 - val_loss: 0.3620 - val_accuracy: 0.8947\n",
            "Epoch 82/125\n",
            "4/4 [==============================] - 0s 20ms/step - loss: 0.3164 - accuracy: 0.9375 - val_loss: 0.3579 - val_accuracy: 0.8947\n",
            "Epoch 83/125\n",
            "4/4 [==============================] - 0s 16ms/step - loss: 0.3120 - accuracy: 0.9375 - val_loss: 0.3581 - val_accuracy: 0.8684\n",
            "Epoch 84/125\n",
            "4/4 [==============================] - 0s 22ms/step - loss: 0.3090 - accuracy: 0.9375 - val_loss: 0.3630 - val_accuracy: 0.8421\n",
            "Epoch 85/125\n",
            "4/4 [==============================] - 0s 21ms/step - loss: 0.3041 - accuracy: 0.9375 - val_loss: 0.3529 - val_accuracy: 0.8684\n",
            "Epoch 86/125\n",
            "4/4 [==============================] - 0s 12ms/step - loss: 0.2994 - accuracy: 0.9464 - val_loss: 0.3396 - val_accuracy: 0.9211\n",
            "Epoch 87/125\n",
            "4/4 [==============================] - 0s 17ms/step - loss: 0.2951 - accuracy: 0.9732 - val_loss: 0.3336 - val_accuracy: 0.9211\n",
            "Epoch 88/125\n",
            "4/4 [==============================] - 0s 13ms/step - loss: 0.2914 - accuracy: 0.9732 - val_loss: 0.3310 - val_accuracy: 0.9211\n",
            "Epoch 89/125\n",
            "4/4 [==============================] - 0s 18ms/step - loss: 0.2868 - accuracy: 0.9643 - val_loss: 0.3338 - val_accuracy: 0.9211\n",
            "Epoch 90/125\n",
            "4/4 [==============================] - 0s 13ms/step - loss: 0.2836 - accuracy: 0.9464 - val_loss: 0.3370 - val_accuracy: 0.8947\n",
            "Epoch 91/125\n",
            "4/4 [==============================] - 0s 18ms/step - loss: 0.2797 - accuracy: 0.9375 - val_loss: 0.3244 - val_accuracy: 0.9211\n",
            "Epoch 92/125\n",
            "4/4 [==============================] - 0s 13ms/step - loss: 0.2748 - accuracy: 0.9732 - val_loss: 0.3221 - val_accuracy: 0.9211\n",
            "Epoch 93/125\n",
            "4/4 [==============================] - 0s 12ms/step - loss: 0.2714 - accuracy: 0.9643 - val_loss: 0.3242 - val_accuracy: 0.9211\n",
            "Epoch 94/125\n",
            "4/4 [==============================] - 0s 18ms/step - loss: 0.2672 - accuracy: 0.9643 - val_loss: 0.3164 - val_accuracy: 0.9211\n",
            "Epoch 95/125\n",
            "4/4 [==============================] - 0s 18ms/step - loss: 0.2635 - accuracy: 0.9643 - val_loss: 0.3151 - val_accuracy: 0.9211\n",
            "Epoch 96/125\n",
            "4/4 [==============================] - 0s 19ms/step - loss: 0.2594 - accuracy: 0.9643 - val_loss: 0.3110 - val_accuracy: 0.9211\n",
            "Epoch 97/125\n",
            "4/4 [==============================] - 0s 19ms/step - loss: 0.2557 - accuracy: 0.9732 - val_loss: 0.3028 - val_accuracy: 0.9211\n",
            "Epoch 98/125\n",
            "4/4 [==============================] - 0s 13ms/step - loss: 0.2525 - accuracy: 0.9732 - val_loss: 0.2958 - val_accuracy: 0.9211\n",
            "Epoch 99/125\n",
            "4/4 [==============================] - 0s 17ms/step - loss: 0.2485 - accuracy: 0.9732 - val_loss: 0.2996 - val_accuracy: 0.9211\n",
            "Epoch 100/125\n",
            "4/4 [==============================] - 0s 17ms/step - loss: 0.2442 - accuracy: 0.9732 - val_loss: 0.3083 - val_accuracy: 0.9211\n",
            "Epoch 101/125\n",
            "4/4 [==============================] - 0s 26ms/step - loss: 0.2437 - accuracy: 0.9375 - val_loss: 0.3109 - val_accuracy: 0.8947\n",
            "Epoch 102/125\n",
            "4/4 [==============================] - 0s 19ms/step - loss: 0.2392 - accuracy: 0.9643 - val_loss: 0.2902 - val_accuracy: 0.9211\n",
            "Epoch 103/125\n",
            "4/4 [==============================] - 0s 18ms/step - loss: 0.2350 - accuracy: 0.9732 - val_loss: 0.2766 - val_accuracy: 0.9737\n",
            "Epoch 104/125\n",
            "4/4 [==============================] - 0s 18ms/step - loss: 0.2331 - accuracy: 0.9821 - val_loss: 0.2713 - val_accuracy: 0.9737\n",
            "Epoch 105/125\n",
            "4/4 [==============================] - 0s 18ms/step - loss: 0.2290 - accuracy: 0.9821 - val_loss: 0.2816 - val_accuracy: 0.9211\n",
            "Epoch 106/125\n",
            "4/4 [==============================] - 0s 18ms/step - loss: 0.2250 - accuracy: 0.9732 - val_loss: 0.2874 - val_accuracy: 0.9211\n",
            "Epoch 107/125\n",
            "4/4 [==============================] - 0s 20ms/step - loss: 0.2229 - accuracy: 0.9732 - val_loss: 0.2838 - val_accuracy: 0.9211\n",
            "Epoch 108/125\n",
            "4/4 [==============================] - 0s 18ms/step - loss: 0.2198 - accuracy: 0.9732 - val_loss: 0.2770 - val_accuracy: 0.9211\n",
            "Epoch 109/125\n",
            "4/4 [==============================] - 0s 13ms/step - loss: 0.2163 - accuracy: 0.9732 - val_loss: 0.2744 - val_accuracy: 0.9211\n",
            "Epoch 110/125\n",
            "4/4 [==============================] - 0s 18ms/step - loss: 0.2138 - accuracy: 0.9732 - val_loss: 0.2695 - val_accuracy: 0.9211\n",
            "Epoch 111/125\n",
            "4/4 [==============================] - 0s 18ms/step - loss: 0.2116 - accuracy: 0.9732 - val_loss: 0.2560 - val_accuracy: 0.9737\n",
            "Epoch 112/125\n",
            "4/4 [==============================] - 0s 12ms/step - loss: 0.2089 - accuracy: 0.9732 - val_loss: 0.2529 - val_accuracy: 0.9737\n",
            "Epoch 113/125\n",
            "4/4 [==============================] - 0s 18ms/step - loss: 0.2055 - accuracy: 0.9732 - val_loss: 0.2664 - val_accuracy: 0.9211\n",
            "Epoch 114/125\n",
            "4/4 [==============================] - 0s 16ms/step - loss: 0.2026 - accuracy: 0.9732 - val_loss: 0.2653 - val_accuracy: 0.9211\n",
            "Epoch 115/125\n",
            "4/4 [==============================] - 0s 23ms/step - loss: 0.2011 - accuracy: 0.9732 - val_loss: 0.2630 - val_accuracy: 0.9211\n",
            "Epoch 116/125\n",
            "4/4 [==============================] - 0s 17ms/step - loss: 0.1966 - accuracy: 0.9732 - val_loss: 0.2452 - val_accuracy: 0.9737\n",
            "Epoch 117/125\n",
            "4/4 [==============================] - 0s 24ms/step - loss: 0.1946 - accuracy: 0.9821 - val_loss: 0.2389 - val_accuracy: 0.9737\n",
            "Epoch 118/125\n",
            "4/4 [==============================] - 0s 18ms/step - loss: 0.1930 - accuracy: 0.9732 - val_loss: 0.2420 - val_accuracy: 0.9737\n",
            "Epoch 119/125\n",
            "4/4 [==============================] - 0s 13ms/step - loss: 0.1898 - accuracy: 0.9732 - val_loss: 0.2400 - val_accuracy: 0.9737\n",
            "Epoch 120/125\n",
            "4/4 [==============================] - 0s 14ms/step - loss: 0.1878 - accuracy: 0.9732 - val_loss: 0.2447 - val_accuracy: 0.9737\n",
            "Epoch 121/125\n",
            "4/4 [==============================] - 0s 13ms/step - loss: 0.1847 - accuracy: 0.9732 - val_loss: 0.2399 - val_accuracy: 0.9737\n",
            "Epoch 122/125\n",
            "4/4 [==============================] - 0s 12ms/step - loss: 0.1825 - accuracy: 0.9732 - val_loss: 0.2377 - val_accuracy: 0.9737\n",
            "Epoch 123/125\n",
            "4/4 [==============================] - 0s 13ms/step - loss: 0.1804 - accuracy: 0.9732 - val_loss: 0.2349 - val_accuracy: 0.9737\n",
            "Epoch 124/125\n",
            "4/4 [==============================] - 0s 18ms/step - loss: 0.1778 - accuracy: 0.9732 - val_loss: 0.2361 - val_accuracy: 0.9737\n",
            "Epoch 125/125\n",
            "4/4 [==============================] - 0s 18ms/step - loss: 0.1760 - accuracy: 0.9732 - val_loss: 0.2342 - val_accuracy: 0.9737\n"
          ]
        }
      ]
    },
    {
      "cell_type": "code",
      "metadata": {
        "id": "LwPTlgr05Z5G",
        "outputId": "6c9b785b-480a-4c3f-9cf8-39912484d391",
        "colab": {
          "base_uri": "https://localhost:8080/",
          "height": 927
        }
      },
      "source": [
        "# summarize the history for accuracy\n",
        "plt.plot(history.history['accuracy'])\n",
        "plt.plot(history.history['val_accuracy'])\n",
        "plt.title('model accuracy')\n",
        "plt.ylabel('accuracy')\n",
        "plt.xlabel('epoch')\n",
        "plt.legend(['train','test'], loc='upper left')\n",
        "plt.show()\n",
        "\n",
        "# summarize the history for loss\n",
        "plt.plot(history.history['loss'])\n",
        "plt.plot(history.history['val_loss'])\n",
        "plt.title('model loss')\n",
        "plt.ylabel('loss')\n",
        "plt.xlabel('epoch')\n",
        "plt.legend(['train','test'], loc='upper left')\n",
        "plt.show()"
      ],
      "execution_count": null,
      "outputs": [
        {
          "output_type": "display_data",
          "data": {
            "text/plain": [
              "<Figure size 640x480 with 1 Axes>"
            ],
            "image/png": "[encoded data removed]"
          },
          "metadata": {}
        },
        {
          "output_type": "display_data",
          "data": {
            "text/plain": [
              "<Figure size 640x480 with 1 Axes>"
            ],
            "image/png": "[encoded data removed]"
          },
          "metadata": {}
        }
      ]
    }
  ]
}